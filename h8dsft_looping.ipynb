{
 "cells": [
  {
   "cell_type": "markdown",
   "id": "6596ba75",
   "metadata": {},
   "source": [
    "# Non-Grade Challenge 1"
   ]
  },
  {
   "cell_type": "code",
   "execution_count": 1,
   "id": "8070710c",
   "metadata": {},
   "outputs": [
    {
     "name": "stdout",
     "output_type": "stream",
     "text": [
      "402 360 408 544 390 592 236 386 462 418 344 236 566 328 162 758 918 412 566 826 248 866 626 \n",
      "DONE\n"
     ]
    }
   ],
   "source": [
    "for i in [951, 402, 984, 651, 360, 69, 408, 319, 601, 485, 980, 507, 725, 547, 544, 615, 83, 165, 141, 501, 263, 617, 865, 575, 219, 390, 984, 592, 236, 105, 942, 941, 386, 462, 47, 418, 907, 344, 236, 375, 823, 566, 597, 978, 328, 615, 953, 345, 399, 162, 758, 219, 918, 237, 412, 566, 826, 248, 866, 950, 626, 949] :\n",
    "    if i % 2 == 0 and i <= 918:\n",
    "        print(i,end=' ')\n",
    "print()\n",
    "print('DONE')"
   ]
  },
  {
   "cell_type": "code",
   "execution_count": null,
   "id": "53f00bb8",
   "metadata": {},
   "outputs": [],
   "source": []
  }
 ],
 "metadata": {
  "kernelspec": {
   "display_name": "Python 3",
   "language": "python",
   "name": "python3"
  },
  "language_info": {
   "codemirror_mode": {
    "name": "ipython",
    "version": 3
   },
   "file_extension": ".py",
   "mimetype": "text/x-python",
   "name": "python",
   "nbconvert_exporter": "python",
   "pygments_lexer": "ipython3",
   "version": "3.8.8"
  }
 },
 "nbformat": 4,
 "nbformat_minor": 5
}
